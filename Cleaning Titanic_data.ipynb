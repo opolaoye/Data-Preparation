{
 "cells": [
  {
   "cell_type": "code",
   "execution_count": 3,
   "metadata": {},
   "outputs": [],
   "source": [
    "import pandas as pd\n",
    "import numpy as np\n",
    "from scipy.stats import mode\n",
    "\n",
    "def cleandf(df):\n",
    "\n",
    "    #cleaning fare column\n",
    "    df.Fare = df.Fare.map(lambda x: np.nan if x==0 else x)\n",
    "    classmeans = df.pivot_table('Fare', rows='Pclass', aggfunc='mean')\n",
    "    df.Fare = df[['Fare', 'Pclass']].apply(lambda x: classmeans[x['Pclass']] if pd.isnull(x['Fare']) else x['Fare'], axis=1 )\n",
    "    \n",
    "    #cleaning the age column\n",
    "    meanAge=np.mean(df.Age)\n",
    "    df.Age=df.Age.fillna(meanAge)\n",
    "    \n",
    "    #cleaning the embarked column\n",
    "    df.Cabin = df.Cabin.fillna('Unknown')\n",
    "    modeEmbarked = mode(df.Embarked)[0][0]\n",
    "    df.embarked = df.Embarked.fillna(modeEmbarked)\n",
    "\n",
    "    return df\n",
    "\n",
    "def cleaneddf(no_bins=0):\n",
    "    #load train and test data set\n",
    "    trainpath = '/Users/opeyemi/Documents/Python notebooks/Data/train_data.csv'\n",
    "    testpath = '/Users/opeyemi/Documents/Python notebooks/Data/test_data.csv'\n",
    "    traindf = pd.read_csv(trainpath)\n",
    "    testdf = pd.read_csv(testpath)\n",
    "    \n",
    "    #discretise fare\n",
    "    if no_bins==0:\n",
    "        return [cleandf(traindf), cleandf(testdf)]\n",
    "    traindf=cleandf(traindf)\n",
    "    testdf=cleandf(testdf)\n",
    "    bins_and_binned_fare = pd.qcut(traindf.Fare, no_bins, retbins=True)\n",
    "    bins=bins_and_binned_fare[1]\n",
    "    traindf.Fare = bins_and_binned_fare[0]\n",
    "    testdf.Fare = pd.cut(testdf.Fare, bins)\n",
    "    \n",
    "    #discretise age\n",
    "    bins_and_binned_age = pd.qcut(traindf.Age, no_bins, retbins=True)\n",
    "    bins=bins_and_binned_age[1]\n",
    "    \n",
    "    traindf.Age = bins_and_binned_age[0]\n",
    "    testdf.Age = pd.cut(testdf.Age, bins)\n",
    "    \n",
    "    #create a submission file for kaggle\n",
    "    predictiondf = pd.DataFrame(testdf['PassengerId'])\n",
    "    predictiondf['Survived']=[0 for x in range(len(testdf))]\n",
    "    predictiondf.to_csv('/Users/opeyemi/Documents/Python notebooks/Data/prediction.csv',\n",
    "                  index=False)\n",
    "    return [traindf, testdf]"
   ]
  },
  {
   "cell_type": "code",
   "execution_count": null,
   "metadata": {},
   "outputs": [],
   "source": []
  }
 ],
 "metadata": {
  "kernelspec": {
   "display_name": "Python 3",
   "language": "python",
   "name": "python3"
  },
  "language_info": {
   "codemirror_mode": {
    "name": "ipython",
    "version": 3
   },
   "file_extension": ".py",
   "mimetype": "text/x-python",
   "name": "python",
   "nbconvert_exporter": "python",
   "pygments_lexer": "ipython3",
   "version": "3.7.3"
  }
 },
 "nbformat": 4,
 "nbformat_minor": 2
}
